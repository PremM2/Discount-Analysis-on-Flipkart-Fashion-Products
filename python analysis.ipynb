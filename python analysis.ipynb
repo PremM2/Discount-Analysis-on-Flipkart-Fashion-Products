{
 "cells": [
  {
   "cell_type": "code",
   "execution_count": 229,
   "id": "e14c6494",
   "metadata": {},
   "outputs": [],
   "source": [
    "import pandas as pd\n",
    "import numpy as np\n",
    "import seaborn as sns\n",
    "import matplotlib.pyplot as plt\n",
    "from scipy.stats import chi2_contingency\n",
    "from sklearn.cluster import KMeans\n",
    "from sklearn.model_selection import train_test_split\n",
    "from sklearn.linear_model import LinearRegression\n",
    "from sklearn.metrics import mean_squared_error, r2_score"
   ]
  },
  {
   "cell_type": "code",
   "execution_count": 6,
   "id": "ebf60c4a",
   "metadata": {},
   "outputs": [],
   "source": [
    "df=pd.read_json('flipkart_fashion_products_dataset.json')"
   ]
  },
  {
   "cell_type": "code",
   "execution_count": 9,
   "id": "cee554c8",
   "metadata": {},
   "outputs": [
    {
     "data": {
      "text/html": [
       "<div>\n",
       "<style scoped>\n",
       "    .dataframe tbody tr th:only-of-type {\n",
       "        vertical-align: middle;\n",
       "    }\n",
       "\n",
       "    .dataframe tbody tr th {\n",
       "        vertical-align: top;\n",
       "    }\n",
       "\n",
       "    .dataframe thead th {\n",
       "        text-align: right;\n",
       "    }\n",
       "</style>\n",
       "<table border=\"1\" class=\"dataframe\">\n",
       "  <thead>\n",
       "    <tr style=\"text-align: right;\">\n",
       "      <th></th>\n",
       "      <th>_id</th>\n",
       "      <th>actual_price</th>\n",
       "      <th>average_rating</th>\n",
       "      <th>brand</th>\n",
       "      <th>category</th>\n",
       "      <th>crawled_at</th>\n",
       "      <th>description</th>\n",
       "      <th>discount</th>\n",
       "      <th>images</th>\n",
       "      <th>out_of_stock</th>\n",
       "      <th>pid</th>\n",
       "      <th>product_details</th>\n",
       "      <th>seller</th>\n",
       "      <th>selling_price</th>\n",
       "      <th>sub_category</th>\n",
       "      <th>title</th>\n",
       "      <th>url</th>\n",
       "    </tr>\n",
       "  </thead>\n",
       "  <tbody>\n",
       "    <tr>\n",
       "      <th>0</th>\n",
       "      <td>fa8e22d6-c0b6-5229-bb9e-ad52eda39a0a</td>\n",
       "      <td>2,999</td>\n",
       "      <td>3.9</td>\n",
       "      <td>York</td>\n",
       "      <td>Clothing and Accessories</td>\n",
       "      <td>2021-02-10 20:11:51</td>\n",
       "      <td>Yorker trackpants made from 100% rich combed c...</td>\n",
       "      <td>69% off</td>\n",
       "      <td>[https://rukminim1.flixcart.com/image/128/128/...</td>\n",
       "      <td>False</td>\n",
       "      <td>TKPFCZ9EA7H5FYZH</td>\n",
       "      <td>[{'Style Code': '1005COMBO2'}, {'Closure': 'El...</td>\n",
       "      <td>Shyam Enterprises</td>\n",
       "      <td>921</td>\n",
       "      <td>Bottomwear</td>\n",
       "      <td>Solid Men Multicolor Track Pants</td>\n",
       "      <td>https://www.flipkart.com/yorker-solid-men-mult...</td>\n",
       "    </tr>\n",
       "    <tr>\n",
       "      <th>1</th>\n",
       "      <td>893e6980-f2a0-531f-b056-34dd63fe912c</td>\n",
       "      <td>1,499</td>\n",
       "      <td>3.9</td>\n",
       "      <td>York</td>\n",
       "      <td>Clothing and Accessories</td>\n",
       "      <td>2021-02-10 20:11:52</td>\n",
       "      <td>Yorker trackpants made from 100% rich combed c...</td>\n",
       "      <td>66% off</td>\n",
       "      <td>[https://rukminim1.flixcart.com/image/128/128/...</td>\n",
       "      <td>False</td>\n",
       "      <td>TKPFCZ9EJZV2UVRZ</td>\n",
       "      <td>[{'Style Code': '1005BLUE'}, {'Closure': 'Draw...</td>\n",
       "      <td>Shyam Enterprises</td>\n",
       "      <td>499</td>\n",
       "      <td>Bottomwear</td>\n",
       "      <td>Solid Men Blue Track Pants</td>\n",
       "      <td>https://www.flipkart.com/yorker-solid-men-blue...</td>\n",
       "    </tr>\n",
       "    <tr>\n",
       "      <th>2</th>\n",
       "      <td>eb4c8eab-8206-59d0-bcd1-a724d96bf74f</td>\n",
       "      <td>2,999</td>\n",
       "      <td>3.9</td>\n",
       "      <td>York</td>\n",
       "      <td>Clothing and Accessories</td>\n",
       "      <td>2021-02-10 20:11:52</td>\n",
       "      <td>Yorker trackpants made from 100% rich combed c...</td>\n",
       "      <td>68% off</td>\n",
       "      <td>[https://rukminim1.flixcart.com/image/128/128/...</td>\n",
       "      <td>False</td>\n",
       "      <td>TKPFCZ9EHFCY5Z4Y</td>\n",
       "      <td>[{'Style Code': '1005COMBO4'}, {'Closure': 'El...</td>\n",
       "      <td>Shyam Enterprises</td>\n",
       "      <td>931</td>\n",
       "      <td>Bottomwear</td>\n",
       "      <td>Solid Men Multicolor Track Pants</td>\n",
       "      <td>https://www.flipkart.com/yorker-solid-men-mult...</td>\n",
       "    </tr>\n",
       "    <tr>\n",
       "      <th>3</th>\n",
       "      <td>3f3f97bb-5faf-57df-a9ff-1af24e2b1045</td>\n",
       "      <td>2,999</td>\n",
       "      <td>3.9</td>\n",
       "      <td>York</td>\n",
       "      <td>Clothing and Accessories</td>\n",
       "      <td>2021-02-10 20:11:53</td>\n",
       "      <td>Yorker trackpants made from 100% rich combed c...</td>\n",
       "      <td>69% off</td>\n",
       "      <td>[https://rukminim1.flixcart.com/image/128/128/...</td>\n",
       "      <td>False</td>\n",
       "      <td>TKPFCZ9ESZZ7YWEF</td>\n",
       "      <td>[{'Style Code': '1005COMBO3'}, {'Closure': 'El...</td>\n",
       "      <td>Shyam Enterprises</td>\n",
       "      <td>911</td>\n",
       "      <td>Bottomwear</td>\n",
       "      <td>Solid Men Multicolor Track Pants</td>\n",
       "      <td>https://www.flipkart.com/yorker-solid-men-mult...</td>\n",
       "    </tr>\n",
       "    <tr>\n",
       "      <th>4</th>\n",
       "      <td>750caa3d-6264-53ca-8ce1-94118a1d8951</td>\n",
       "      <td>2,999</td>\n",
       "      <td>3.9</td>\n",
       "      <td>York</td>\n",
       "      <td>Clothing and Accessories</td>\n",
       "      <td>2021-02-10 20:11:53</td>\n",
       "      <td>Yorker trackpants made from 100% rich combed c...</td>\n",
       "      <td>68% off</td>\n",
       "      <td>[https://rukminim1.flixcart.com/image/128/128/...</td>\n",
       "      <td>False</td>\n",
       "      <td>TKPFCZ9EVXKBSUD7</td>\n",
       "      <td>[{'Style Code': '1005COMBO1'}, {'Closure': 'Dr...</td>\n",
       "      <td>Shyam Enterprises</td>\n",
       "      <td>943</td>\n",
       "      <td>Bottomwear</td>\n",
       "      <td>Solid Men Brown, Grey Track Pants</td>\n",
       "      <td>https://www.flipkart.com/yorker-solid-men-brow...</td>\n",
       "    </tr>\n",
       "  </tbody>\n",
       "</table>\n",
       "</div>"
      ],
      "text/plain": [
       "                                    _id actual_price average_rating brand  \\\n",
       "0  fa8e22d6-c0b6-5229-bb9e-ad52eda39a0a        2,999            3.9  York   \n",
       "1  893e6980-f2a0-531f-b056-34dd63fe912c        1,499            3.9  York   \n",
       "2  eb4c8eab-8206-59d0-bcd1-a724d96bf74f        2,999            3.9  York   \n",
       "3  3f3f97bb-5faf-57df-a9ff-1af24e2b1045        2,999            3.9  York   \n",
       "4  750caa3d-6264-53ca-8ce1-94118a1d8951        2,999            3.9  York   \n",
       "\n",
       "                   category          crawled_at  \\\n",
       "0  Clothing and Accessories 2021-02-10 20:11:51   \n",
       "1  Clothing and Accessories 2021-02-10 20:11:52   \n",
       "2  Clothing and Accessories 2021-02-10 20:11:52   \n",
       "3  Clothing and Accessories 2021-02-10 20:11:53   \n",
       "4  Clothing and Accessories 2021-02-10 20:11:53   \n",
       "\n",
       "                                         description discount  \\\n",
       "0  Yorker trackpants made from 100% rich combed c...  69% off   \n",
       "1  Yorker trackpants made from 100% rich combed c...  66% off   \n",
       "2  Yorker trackpants made from 100% rich combed c...  68% off   \n",
       "3  Yorker trackpants made from 100% rich combed c...  69% off   \n",
       "4  Yorker trackpants made from 100% rich combed c...  68% off   \n",
       "\n",
       "                                              images  out_of_stock  \\\n",
       "0  [https://rukminim1.flixcart.com/image/128/128/...         False   \n",
       "1  [https://rukminim1.flixcart.com/image/128/128/...         False   \n",
       "2  [https://rukminim1.flixcart.com/image/128/128/...         False   \n",
       "3  [https://rukminim1.flixcart.com/image/128/128/...         False   \n",
       "4  [https://rukminim1.flixcart.com/image/128/128/...         False   \n",
       "\n",
       "                pid                                    product_details  \\\n",
       "0  TKPFCZ9EA7H5FYZH  [{'Style Code': '1005COMBO2'}, {'Closure': 'El...   \n",
       "1  TKPFCZ9EJZV2UVRZ  [{'Style Code': '1005BLUE'}, {'Closure': 'Draw...   \n",
       "2  TKPFCZ9EHFCY5Z4Y  [{'Style Code': '1005COMBO4'}, {'Closure': 'El...   \n",
       "3  TKPFCZ9ESZZ7YWEF  [{'Style Code': '1005COMBO3'}, {'Closure': 'El...   \n",
       "4  TKPFCZ9EVXKBSUD7  [{'Style Code': '1005COMBO1'}, {'Closure': 'Dr...   \n",
       "\n",
       "              seller selling_price sub_category  \\\n",
       "0  Shyam Enterprises           921   Bottomwear   \n",
       "1  Shyam Enterprises           499   Bottomwear   \n",
       "2  Shyam Enterprises           931   Bottomwear   \n",
       "3  Shyam Enterprises           911   Bottomwear   \n",
       "4  Shyam Enterprises           943   Bottomwear   \n",
       "\n",
       "                               title  \\\n",
       "0   Solid Men Multicolor Track Pants   \n",
       "1         Solid Men Blue Track Pants   \n",
       "2   Solid Men Multicolor Track Pants   \n",
       "3   Solid Men Multicolor Track Pants   \n",
       "4  Solid Men Brown, Grey Track Pants   \n",
       "\n",
       "                                                 url  \n",
       "0  https://www.flipkart.com/yorker-solid-men-mult...  \n",
       "1  https://www.flipkart.com/yorker-solid-men-blue...  \n",
       "2  https://www.flipkart.com/yorker-solid-men-mult...  \n",
       "3  https://www.flipkart.com/yorker-solid-men-mult...  \n",
       "4  https://www.flipkart.com/yorker-solid-men-brow...  "
      ]
     },
     "execution_count": 9,
     "metadata": {},
     "output_type": "execute_result"
    }
   ],
   "source": [
    "df.head()"
   ]
  },
  {
   "cell_type": "code",
   "execution_count": 12,
   "id": "53fa69c3",
   "metadata": {},
   "outputs": [],
   "source": [
    "df.drop(['images','url'],axis=1,inplace=True)"
   ]
  },
  {
   "cell_type": "code",
   "execution_count": 15,
   "id": "3bd6262f",
   "metadata": {},
   "outputs": [],
   "source": [
    "df.drop('description',axis=1,inplace=True)"
   ]
  },
  {
   "cell_type": "code",
   "execution_count": 22,
   "id": "f4c16c9b",
   "metadata": {},
   "outputs": [],
   "source": [
    "df['discount_in_percentage']=df['discount'].str.replace(\"% off\",'')"
   ]
  },
  {
   "cell_type": "code",
   "execution_count": 23,
   "id": "a58b6173",
   "metadata": {},
   "outputs": [],
   "source": [
    "df.drop('discount',axis=1,inplace=True)"
   ]
  },
  {
   "cell_type": "code",
   "execution_count": 25,
   "id": "485a5537",
   "metadata": {},
   "outputs": [
    {
     "data": {
      "text/html": [
       "<div>\n",
       "<style scoped>\n",
       "    .dataframe tbody tr th:only-of-type {\n",
       "        vertical-align: middle;\n",
       "    }\n",
       "\n",
       "    .dataframe tbody tr th {\n",
       "        vertical-align: top;\n",
       "    }\n",
       "\n",
       "    .dataframe thead th {\n",
       "        text-align: right;\n",
       "    }\n",
       "</style>\n",
       "<table border=\"1\" class=\"dataframe\">\n",
       "  <thead>\n",
       "    <tr style=\"text-align: right;\">\n",
       "      <th></th>\n",
       "      <th>_id</th>\n",
       "      <th>actual_price</th>\n",
       "      <th>average_rating</th>\n",
       "      <th>brand</th>\n",
       "      <th>category</th>\n",
       "      <th>crawled_at</th>\n",
       "      <th>out_of_stock</th>\n",
       "      <th>pid</th>\n",
       "      <th>product_details</th>\n",
       "      <th>seller</th>\n",
       "      <th>selling_price</th>\n",
       "      <th>sub_category</th>\n",
       "      <th>title</th>\n",
       "      <th>discount_in_percentage</th>\n",
       "    </tr>\n",
       "  </thead>\n",
       "  <tbody>\n",
       "    <tr>\n",
       "      <th>0</th>\n",
       "      <td>fa8e22d6-c0b6-5229-bb9e-ad52eda39a0a</td>\n",
       "      <td>2,999</td>\n",
       "      <td>3.9</td>\n",
       "      <td>York</td>\n",
       "      <td>Clothing and Accessories</td>\n",
       "      <td>2021-02-10 20:11:51</td>\n",
       "      <td>False</td>\n",
       "      <td>TKPFCZ9EA7H5FYZH</td>\n",
       "      <td>[{'Style Code': '1005COMBO2'}, {'Closure': 'El...</td>\n",
       "      <td>Shyam Enterprises</td>\n",
       "      <td>921</td>\n",
       "      <td>Bottomwear</td>\n",
       "      <td>Solid Men Multicolor Track Pants</td>\n",
       "      <td>69</td>\n",
       "    </tr>\n",
       "  </tbody>\n",
       "</table>\n",
       "</div>"
      ],
      "text/plain": [
       "                                    _id actual_price average_rating brand  \\\n",
       "0  fa8e22d6-c0b6-5229-bb9e-ad52eda39a0a        2,999            3.9  York   \n",
       "\n",
       "                   category          crawled_at  out_of_stock  \\\n",
       "0  Clothing and Accessories 2021-02-10 20:11:51         False   \n",
       "\n",
       "                pid                                    product_details  \\\n",
       "0  TKPFCZ9EA7H5FYZH  [{'Style Code': '1005COMBO2'}, {'Closure': 'El...   \n",
       "\n",
       "              seller selling_price sub_category  \\\n",
       "0  Shyam Enterprises           921   Bottomwear   \n",
       "\n",
       "                              title discount_in_percentage  \n",
       "0  Solid Men Multicolor Track Pants                     69  "
      ]
     },
     "execution_count": 25,
     "metadata": {},
     "output_type": "execute_result"
    }
   ],
   "source": [
    "df.head(n=1)"
   ]
  },
  {
   "cell_type": "code",
   "execution_count": 30,
   "id": "45ba65d5",
   "metadata": {},
   "outputs": [],
   "source": [
    "df['actual_price']=df['actual_price'].str.replace(',','')"
   ]
  },
  {
   "cell_type": "code",
   "execution_count": 38,
   "id": "89f91722",
   "metadata": {},
   "outputs": [],
   "source": [
    "def remove_comma(value):\n",
    "    return  value.replace(',','') if isinstance(value,str) else value"
   ]
  },
  {
   "cell_type": "code",
   "execution_count": 41,
   "id": "21b2a124",
   "metadata": {},
   "outputs": [],
   "source": [
    "df['selling_price']=df['selling_price'].apply(remove_comma)"
   ]
  },
  {
   "cell_type": "code",
   "execution_count": 48,
   "id": "e5bc83ed",
   "metadata": {},
   "outputs": [
    {
     "data": {
      "text/plain": [
       "_id                       0\n",
       "actual_price              0\n",
       "average_rating            0\n",
       "brand                     0\n",
       "category                  0\n",
       "crawled_at                0\n",
       "out_of_stock              0\n",
       "pid                       0\n",
       "product_details           0\n",
       "seller                    0\n",
       "selling_price             0\n",
       "sub_category              0\n",
       "title                     0\n",
       "discount_in_percentage    0\n",
       "dtype: int64"
      ]
     },
     "execution_count": 48,
     "metadata": {},
     "output_type": "execute_result"
    }
   ],
   "source": [
    "df.isnull().sum()"
   ]
  },
  {
   "cell_type": "code",
   "execution_count": 50,
   "id": "e81caead",
   "metadata": {},
   "outputs": [
    {
     "data": {
      "text/plain": [
       "_id                       0\n",
       "actual_price              0\n",
       "average_rating            0\n",
       "brand                     0\n",
       "category                  0\n",
       "crawled_at                0\n",
       "out_of_stock              0\n",
       "pid                       0\n",
       "product_details           0\n",
       "seller                    0\n",
       "selling_price             0\n",
       "sub_category              0\n",
       "title                     0\n",
       "discount_in_percentage    0\n",
       "dtype: int64"
      ]
     },
     "execution_count": 50,
     "metadata": {},
     "output_type": "execute_result"
    }
   ],
   "source": [
    "df.isna().sum()"
   ]
  },
  {
   "cell_type": "code",
   "execution_count": 54,
   "id": "3f4e57c7",
   "metadata": {},
   "outputs": [],
   "source": [
    "df[['actual_price','selling_price','discount_in_percentage']]=df[['actual_price','selling_price','discount_in_percentage']].replace('',np.nan)"
   ]
  },
  {
   "cell_type": "code",
   "execution_count": 58,
   "id": "8148103b",
   "metadata": {},
   "outputs": [],
   "source": [
    "df=df.dropna(subset=['actual_price','selling_price','discount_in_percentage'])"
   ]
  },
  {
   "cell_type": "code",
   "execution_count": 60,
   "id": "53902836",
   "metadata": {},
   "outputs": [
    {
     "name": "stderr",
     "output_type": "stream",
     "text": [
      "C:\\Users\\Prem M\\AppData\\Local\\Temp\\ipykernel_5628\\2231274475.py:1: SettingWithCopyWarning: \n",
      "A value is trying to be set on a copy of a slice from a DataFrame.\n",
      "Try using .loc[row_indexer,col_indexer] = value instead\n",
      "\n",
      "See the caveats in the documentation: https://pandas.pydata.org/pandas-docs/stable/user_guide/indexing.html#returning-a-view-versus-a-copy\n",
      "  df[['actual_price','selling_price','discount_in_percentage']]=df[['actual_price','selling_price','discount_in_percentage']].astype(int)\n"
     ]
    }
   ],
   "source": [
    "df[['actual_price','selling_price','discount_in_percentage']]=df[['actual_price','selling_price','discount_in_percentage']].astype(int)"
   ]
  },
  {
   "cell_type": "code",
   "execution_count": 65,
   "id": "816f29d8",
   "metadata": {},
   "outputs": [
    {
     "name": "stderr",
     "output_type": "stream",
     "text": [
      "C:\\Users\\Prem M\\AppData\\Local\\Temp\\ipykernel_5628\\1678897527.py:1: SettingWithCopyWarning: \n",
      "A value is trying to be set on a copy of a slice from a DataFrame.\n",
      "Try using .loc[row_indexer,col_indexer] = value instead\n",
      "\n",
      "See the caveats in the documentation: https://pandas.pydata.org/pandas-docs/stable/user_guide/indexing.html#returning-a-view-versus-a-copy\n",
      "  df['average_rating']=df['average_rating'].replace('',np.nan)\n"
     ]
    }
   ],
   "source": [
    "df['average_rating']=df['average_rating'].replace('',np.nan)"
   ]
  },
  {
   "cell_type": "code",
   "execution_count": 70,
   "id": "8666a588",
   "metadata": {},
   "outputs": [],
   "source": [
    "df=df.dropna(subset=['average_rating'])"
   ]
  },
  {
   "cell_type": "code",
   "execution_count": 71,
   "id": "8bdb4fd5",
   "metadata": {},
   "outputs": [],
   "source": [
    "df['average_rating']=df['average_rating'].astype(float)"
   ]
  },
  {
   "cell_type": "code",
   "execution_count": 72,
   "id": "6bf925b6",
   "metadata": {},
   "outputs": [
    {
     "data": {
      "text/plain": [
       "_id                       0\n",
       "actual_price              0\n",
       "average_rating            0\n",
       "brand                     0\n",
       "category                  0\n",
       "crawled_at                0\n",
       "out_of_stock              0\n",
       "pid                       0\n",
       "product_details           0\n",
       "seller                    0\n",
       "selling_price             0\n",
       "sub_category              0\n",
       "title                     0\n",
       "discount_in_percentage    0\n",
       "dtype: int64"
      ]
     },
     "execution_count": 72,
     "metadata": {},
     "output_type": "execute_result"
    }
   ],
   "source": [
    "df.isnull().sum()"
   ]
  },
  {
   "cell_type": "code",
   "execution_count": 73,
   "id": "b16e738d",
   "metadata": {},
   "outputs": [
    {
     "data": {
      "text/plain": [
       "26869"
      ]
     },
     "execution_count": 73,
     "metadata": {},
     "output_type": "execute_result"
    }
   ],
   "source": [
    "df.shape[0]"
   ]
  },
  {
   "cell_type": "code",
   "execution_count": 74,
   "id": "3ac15efc",
   "metadata": {},
   "outputs": [
    {
     "data": {
      "text/plain": [
       "_id                               object\n",
       "actual_price                       int32\n",
       "average_rating                   float64\n",
       "brand                             object\n",
       "category                          object\n",
       "crawled_at                datetime64[ns]\n",
       "out_of_stock                        bool\n",
       "pid                               object\n",
       "product_details                   object\n",
       "seller                            object\n",
       "selling_price                      int32\n",
       "sub_category                      object\n",
       "title                             object\n",
       "discount_in_percentage             int32\n",
       "dtype: object"
      ]
     },
     "execution_count": 74,
     "metadata": {},
     "output_type": "execute_result"
    }
   ],
   "source": [
    "df.dtypes"
   ]
  },
  {
   "cell_type": "code",
   "execution_count": 77,
   "id": "69715e41",
   "metadata": {},
   "outputs": [
    {
     "data": {
      "text/html": [
       "<div>\n",
       "<style scoped>\n",
       "    .dataframe tbody tr th:only-of-type {\n",
       "        vertical-align: middle;\n",
       "    }\n",
       "\n",
       "    .dataframe tbody tr th {\n",
       "        vertical-align: top;\n",
       "    }\n",
       "\n",
       "    .dataframe thead th {\n",
       "        text-align: right;\n",
       "    }\n",
       "</style>\n",
       "<table border=\"1\" class=\"dataframe\">\n",
       "  <thead>\n",
       "    <tr style=\"text-align: right;\">\n",
       "      <th></th>\n",
       "      <th>actual_price</th>\n",
       "      <th>average_rating</th>\n",
       "      <th>crawled_at</th>\n",
       "      <th>selling_price</th>\n",
       "      <th>discount_in_percentage</th>\n",
       "    </tr>\n",
       "  </thead>\n",
       "  <tbody>\n",
       "    <tr>\n",
       "      <th>count</th>\n",
       "      <td>26869.000000</td>\n",
       "      <td>26869.000000</td>\n",
       "      <td>26869</td>\n",
       "      <td>26869.000000</td>\n",
       "      <td>26869.000000</td>\n",
       "    </tr>\n",
       "    <tr>\n",
       "      <th>mean</th>\n",
       "      <td>1476.516059</td>\n",
       "      <td>3.641312</td>\n",
       "      <td>2021-02-10 22:57:07.081096960</td>\n",
       "      <td>701.751796</td>\n",
       "      <td>50.281923</td>\n",
       "    </tr>\n",
       "    <tr>\n",
       "      <th>min</th>\n",
       "      <td>150.000000</td>\n",
       "      <td>1.000000</td>\n",
       "      <td>2021-02-10 20:11:51</td>\n",
       "      <td>99.000000</td>\n",
       "      <td>1.000000</td>\n",
       "    </tr>\n",
       "    <tr>\n",
       "      <th>25%</th>\n",
       "      <td>870.000000</td>\n",
       "      <td>3.300000</td>\n",
       "      <td>2021-02-10 21:32:33</td>\n",
       "      <td>389.000000</td>\n",
       "      <td>40.000000</td>\n",
       "    </tr>\n",
       "    <tr>\n",
       "      <th>50%</th>\n",
       "      <td>1299.000000</td>\n",
       "      <td>3.800000</td>\n",
       "      <td>2021-02-10 22:59:28</td>\n",
       "      <td>549.000000</td>\n",
       "      <td>52.000000</td>\n",
       "    </tr>\n",
       "    <tr>\n",
       "      <th>75%</th>\n",
       "      <td>1799.000000</td>\n",
       "      <td>4.100000</td>\n",
       "      <td>2021-02-11 00:20:48</td>\n",
       "      <td>824.000000</td>\n",
       "      <td>63.000000</td>\n",
       "    </tr>\n",
       "    <tr>\n",
       "      <th>max</th>\n",
       "      <td>12999.000000</td>\n",
       "      <td>5.000000</td>\n",
       "      <td>2021-02-11 01:31:55</td>\n",
       "      <td>7999.000000</td>\n",
       "      <td>87.000000</td>\n",
       "    </tr>\n",
       "    <tr>\n",
       "      <th>std</th>\n",
       "      <td>956.356077</td>\n",
       "      <td>0.664691</td>\n",
       "      <td>NaN</td>\n",
       "      <td>527.823998</td>\n",
       "      <td>16.882599</td>\n",
       "    </tr>\n",
       "  </tbody>\n",
       "</table>\n",
       "</div>"
      ],
      "text/plain": [
       "       actual_price  average_rating                     crawled_at  \\\n",
       "count  26869.000000    26869.000000                          26869   \n",
       "mean    1476.516059        3.641312  2021-02-10 22:57:07.081096960   \n",
       "min      150.000000        1.000000            2021-02-10 20:11:51   \n",
       "25%      870.000000        3.300000            2021-02-10 21:32:33   \n",
       "50%     1299.000000        3.800000            2021-02-10 22:59:28   \n",
       "75%     1799.000000        4.100000            2021-02-11 00:20:48   \n",
       "max    12999.000000        5.000000            2021-02-11 01:31:55   \n",
       "std      956.356077        0.664691                            NaN   \n",
       "\n",
       "       selling_price  discount_in_percentage  \n",
       "count   26869.000000            26869.000000  \n",
       "mean      701.751796               50.281923  \n",
       "min        99.000000                1.000000  \n",
       "25%       389.000000               40.000000  \n",
       "50%       549.000000               52.000000  \n",
       "75%       824.000000               63.000000  \n",
       "max      7999.000000               87.000000  \n",
       "std       527.823998               16.882599  "
      ]
     },
     "execution_count": 77,
     "metadata": {},
     "output_type": "execute_result"
    }
   ],
   "source": [
    "df.describe()"
   ]
  },
  {
   "cell_type": "code",
   "execution_count": 80,
   "id": "6add22ef",
   "metadata": {},
   "outputs": [
    {
     "data": {
      "text/plain": [
       "Index(['_id', 'actual_price', 'average_rating', 'brand', 'category',\n",
       "       'crawled_at', 'out_of_stock', 'pid', 'product_details', 'seller',\n",
       "       'selling_price', 'sub_category', 'title', 'discount_in_percentage'],\n",
       "      dtype='object')"
      ]
     },
     "execution_count": 80,
     "metadata": {},
     "output_type": "execute_result"
    }
   ],
   "source": [
    "df.columns"
   ]
  },
  {
   "cell_type": "code",
   "execution_count": 112,
   "id": "c4c6c690",
   "metadata": {},
   "outputs": [],
   "source": [
    "df.groupby('category').size()\n",
    "#we have to eliminate toys sections since we dont have sufficient_data\n",
    "df=df[df['category']!='Toys']"
   ]
  },
  {
   "cell_type": "code",
   "execution_count": 113,
   "id": "a66c44f5",
   "metadata": {},
   "outputs": [],
   "source": [
    "category_discount_avg=df.groupby('category')['discount_in_percentage'].mean().reset_index()"
   ]
  },
  {
   "cell_type": "code",
   "execution_count": 114,
   "id": "b035ec11",
   "metadata": {},
   "outputs": [],
   "source": [
    "category_discount_avg_sort=category_discount_avg.sort_values(by='discount_in_percentage',ascending=True)"
   ]
  },
  {
   "cell_type": "code",
   "execution_count": 115,
   "id": "1c48197b",
   "metadata": {},
   "outputs": [
    {
     "data": {
      "image/png": "[encoded data removed]",
      "text/plain": [
       "<Figure size 800x600 with 1 Axes>"
      ]
     },
     "metadata": {},
     "output_type": "display_data"
    }
   ],
   "source": [
    "plt.figure(figsize=(8,6))\n",
    "sns.barplot(x='category',y='discount_in_percentage',data=category_discount_avg_sort)\n",
    "plt.grid()"
   ]
  },
  {
   "cell_type": "code",
   "execution_count": 116,
   "id": "381812aa",
   "metadata": {},
   "outputs": [],
   "source": [
    "rating_category=df.groupby('category')['average_rating'].mean().reset_index()"
   ]
  },
  {
   "cell_type": "code",
   "execution_count": 117,
   "id": "3c6d5ac6",
   "metadata": {},
   "outputs": [],
   "source": [
    "rating_category_sort=rating_category.sort_values(by='average_rating',ascending=True)"
   ]
  },
  {
   "cell_type": "code",
   "execution_count": 118,
   "id": "7567b7cc",
   "metadata": {},
   "outputs": [
    {
     "data": {
      "image/png": "[encoded data removed]",
      "text/plain": [
       "<Figure size 640x480 with 1 Axes>"
      ]
     },
     "metadata": {},
     "output_type": "display_data"
    }
   ],
   "source": [
    "sns.barplot(x='category',y='average_rating',data=rating_category_sort)\n",
    "plt.grid()"
   ]
  },
  {
   "cell_type": "markdown",
   "id": "914aefe7",
   "metadata": {},
   "source": [
    "so from this analysis , bags,wallets and belts has highest average discount percentage and high average rating,which is good, there isn't need to deep further"
   ]
  },
  {
   "cell_type": "code",
   "execution_count": 121,
   "id": "312b1ea5",
   "metadata": {},
   "outputs": [],
   "source": [
    "seller_discount=df.groupby('seller')['discount_in_percentage'].mean().reset_index()"
   ]
  },
  {
   "cell_type": "code",
   "execution_count": 128,
   "id": "d7b2afa7",
   "metadata": {},
   "outputs": [],
   "source": [
    "seller_discount_sort=seller_discount.sort_values(by='discount_in_percentage',ascending=False)"
   ]
  },
  {
   "cell_type": "code",
   "execution_count": 130,
   "id": "a7537482",
   "metadata": {},
   "outputs": [],
   "source": [
    "top_10_sellers_discount=seller_discount_sort.head(n=10)"
   ]
  },
  {
   "cell_type": "code",
   "execution_count": 140,
   "id": "6668b8ad",
   "metadata": {},
   "outputs": [
    {
     "data": {
      "image/png": "[encoded data removed]",
      "text/plain": [
       "<Figure size 2500x1000 with 1 Axes>"
      ]
     },
     "metadata": {},
     "output_type": "display_data"
    }
   ],
   "source": [
    "plt.figure(figsize=(25,10))\n",
    "sns.barplot(x='seller',y='discount_in_percentage',data=top_10_sellers_discount)\n",
    "plt.tight_layout()\n",
    "plt.grid()"
   ]
  },
  {
   "cell_type": "code",
   "execution_count": 143,
   "id": "cef989dd",
   "metadata": {},
   "outputs": [],
   "source": [
    "seller_80_discount=df[df['discount_in_percentage'] >=80]"
   ]
  },
  {
   "cell_type": "code",
   "execution_count": 147,
   "id": "6e675eea",
   "metadata": {},
   "outputs": [
    {
     "data": {
      "text/html": [
       "<div>\n",
       "<style scoped>\n",
       "    .dataframe tbody tr th:only-of-type {\n",
       "        vertical-align: middle;\n",
       "    }\n",
       "\n",
       "    .dataframe tbody tr th {\n",
       "        vertical-align: top;\n",
       "    }\n",
       "\n",
       "    .dataframe thead th {\n",
       "        text-align: right;\n",
       "    }\n",
       "</style>\n",
       "<table border=\"1\" class=\"dataframe\">\n",
       "  <thead>\n",
       "    <tr style=\"text-align: right;\">\n",
       "      <th></th>\n",
       "      <th>discount_in_percentage</th>\n",
       "      <th>seller</th>\n",
       "    </tr>\n",
       "  </thead>\n",
       "  <tbody>\n",
       "    <tr>\n",
       "      <th>0</th>\n",
       "      <td>80</td>\n",
       "      <td>96</td>\n",
       "    </tr>\n",
       "    <tr>\n",
       "      <th>1</th>\n",
       "      <td>81</td>\n",
       "      <td>64</td>\n",
       "    </tr>\n",
       "    <tr>\n",
       "      <th>2</th>\n",
       "      <td>82</td>\n",
       "      <td>35</td>\n",
       "    </tr>\n",
       "    <tr>\n",
       "      <th>3</th>\n",
       "      <td>83</td>\n",
       "      <td>9</td>\n",
       "    </tr>\n",
       "    <tr>\n",
       "      <th>4</th>\n",
       "      <td>84</td>\n",
       "      <td>8</td>\n",
       "    </tr>\n",
       "    <tr>\n",
       "      <th>5</th>\n",
       "      <td>85</td>\n",
       "      <td>1</td>\n",
       "    </tr>\n",
       "    <tr>\n",
       "      <th>6</th>\n",
       "      <td>86</td>\n",
       "      <td>2</td>\n",
       "    </tr>\n",
       "    <tr>\n",
       "      <th>7</th>\n",
       "      <td>87</td>\n",
       "      <td>1</td>\n",
       "    </tr>\n",
       "  </tbody>\n",
       "</table>\n",
       "</div>"
      ],
      "text/plain": [
       "   discount_in_percentage  seller\n",
       "0                      80      96\n",
       "1                      81      64\n",
       "2                      82      35\n",
       "3                      83       9\n",
       "4                      84       8\n",
       "5                      85       1\n",
       "6                      86       2\n",
       "7                      87       1"
      ]
     },
     "execution_count": 147,
     "metadata": {},
     "output_type": "execute_result"
    }
   ],
   "source": [
    "seller_80_discount.groupby('discount_in_percentage')['seller'].count().reset_index()"
   ]
  },
  {
   "cell_type": "markdown",
   "id": "344f6f83",
   "metadata": {},
   "source": [
    "possible interpretation - aggresive price competition"
   ]
  },
  {
   "cell_type": "code",
   "execution_count": 148,
   "id": "081df194",
   "metadata": {},
   "outputs": [],
   "source": [
    "#lets plot histogram to see how discounts are distributed"
   ]
  },
  {
   "cell_type": "code",
   "execution_count": 149,
   "id": "9e531c4f",
   "metadata": {},
   "outputs": [
    {
     "data": {
      "text/plain": [
       "<Axes: xlabel='discount_in_percentage', ylabel='Count'>"
      ]
     },
     "execution_count": 149,
     "metadata": {},
     "output_type": "execute_result"
    },
    {
     "data": {
      "image/png": "[encoded data removed]",
      "text/plain": [
       "<Figure size 640x480 with 1 Axes>"
      ]
     },
     "metadata": {},
     "output_type": "display_data"
    }
   ],
   "source": [
    "sns.histplot(df['discount_in_percentage'],bins=50,kde=True)"
   ]
  },
  {
   "cell_type": "code",
   "execution_count": 150,
   "id": "5afdba0c",
   "metadata": {},
   "outputs": [
    {
     "data": {
      "text/plain": [
       "<Axes: >"
      ]
     },
     "execution_count": 150,
     "metadata": {},
     "output_type": "execute_result"
    },
    {
     "data": {
      "image/png": "[encoded data removed]",
      "text/plain": [
       "<Figure size 640x480 with 1 Axes>"
      ]
     },
     "metadata": {},
     "output_type": "display_data"
    }
   ],
   "source": [
    "sns.boxplot(df['discount_in_percentage'])"
   ]
  },
  {
   "cell_type": "code",
   "execution_count": 152,
   "id": "b5131b5c",
   "metadata": {},
   "outputs": [],
   "source": [
    "#sweet spot - discount rating is 50-55%"
   ]
  },
  {
   "cell_type": "code",
   "execution_count": 154,
   "id": "0f6701fb",
   "metadata": {},
   "outputs": [
    {
     "data": {
      "text/html": [
       "<div>\n",
       "<style scoped>\n",
       "    .dataframe tbody tr th:only-of-type {\n",
       "        vertical-align: middle;\n",
       "    }\n",
       "\n",
       "    .dataframe tbody tr th {\n",
       "        vertical-align: top;\n",
       "    }\n",
       "\n",
       "    .dataframe thead th {\n",
       "        text-align: right;\n",
       "    }\n",
       "</style>\n",
       "<table border=\"1\" class=\"dataframe\">\n",
       "  <thead>\n",
       "    <tr style=\"text-align: right;\">\n",
       "      <th></th>\n",
       "      <th>discount_in_percentage</th>\n",
       "      <th>average_rating</th>\n",
       "    </tr>\n",
       "  </thead>\n",
       "  <tbody>\n",
       "    <tr>\n",
       "      <th>discount_in_percentage</th>\n",
       "      <td>1.000000</td>\n",
       "      <td>-0.042124</td>\n",
       "    </tr>\n",
       "    <tr>\n",
       "      <th>average_rating</th>\n",
       "      <td>-0.042124</td>\n",
       "      <td>1.000000</td>\n",
       "    </tr>\n",
       "  </tbody>\n",
       "</table>\n",
       "</div>"
      ],
      "text/plain": [
       "                        discount_in_percentage  average_rating\n",
       "discount_in_percentage                1.000000       -0.042124\n",
       "average_rating                       -0.042124        1.000000"
      ]
     },
     "execution_count": 154,
     "metadata": {},
     "output_type": "execute_result"
    }
   ],
   "source": [
    "df[['discount_in_percentage','average_rating']].corr()"
   ]
  },
  {
   "cell_type": "code",
   "execution_count": 155,
   "id": "3f50ab15",
   "metadata": {},
   "outputs": [],
   "source": [
    "#there is a weak negative correlation, as discounts increase , ratings slightly decrease"
   ]
  },
  {
   "cell_type": "code",
   "execution_count": 156,
   "id": "886e5943",
   "metadata": {},
   "outputs": [
    {
     "data": {
      "text/plain": [
       "<Axes: xlabel='discount_in_percentage', ylabel='average_rating'>"
      ]
     },
     "execution_count": 156,
     "metadata": {},
     "output_type": "execute_result"
    },
    {
     "data": {
      "image/png": "[encoded data removed]",
      "text/plain": [
       "<Figure size 640x480 with 1 Axes>"
      ]
     },
     "metadata": {},
     "output_type": "display_data"
    }
   ],
   "source": [
    "sns.scatterplot(x='discount_in_percentage',y='average_rating',data=df)"
   ]
  },
  {
   "cell_type": "markdown",
   "id": "f7335968",
   "metadata": {},
   "source": [
    "products with low and high discounts receives similar ratings"
   ]
  },
  {
   "cell_type": "code",
   "execution_count": 160,
   "id": "a2f0935b",
   "metadata": {},
   "outputs": [],
   "source": [
    "actual_price=df.groupby('category')['actual_price'].sum().reset_index()"
   ]
  },
  {
   "cell_type": "code",
   "execution_count": 161,
   "id": "46c89300",
   "metadata": {},
   "outputs": [],
   "source": [
    "discounted_price=df.groupby('category')['selling_price'].sum().reset_index()"
   ]
  },
  {
   "cell_type": "code",
   "execution_count": 163,
   "id": "9ab87bd0",
   "metadata": {},
   "outputs": [],
   "source": [
    "revenue_loss=actual_price.merge(discounted_price, on='category')"
   ]
  },
  {
   "cell_type": "code",
   "execution_count": 167,
   "id": "1be1a57a",
   "metadata": {},
   "outputs": [],
   "source": [
    "revenue_loss['loss']=revenue_loss['actual_price'] - revenue_loss['selling_price'] "
   ]
  },
  {
   "cell_type": "code",
   "execution_count": 169,
   "id": "c1c99677",
   "metadata": {},
   "outputs": [],
   "source": [
    "revenue_loss['loss_percentage']= (revenue_loss['loss']*100)/revenue_loss['actual_price']"
   ]
  },
  {
   "cell_type": "code",
   "execution_count": 170,
   "id": "3d888c7f",
   "metadata": {},
   "outputs": [
    {
     "data": {
      "text/html": [
       "<div>\n",
       "<style scoped>\n",
       "    .dataframe tbody tr th:only-of-type {\n",
       "        vertical-align: middle;\n",
       "    }\n",
       "\n",
       "    .dataframe tbody tr th {\n",
       "        vertical-align: top;\n",
       "    }\n",
       "\n",
       "    .dataframe thead th {\n",
       "        text-align: right;\n",
       "    }\n",
       "</style>\n",
       "<table border=\"1\" class=\"dataframe\">\n",
       "  <thead>\n",
       "    <tr style=\"text-align: right;\">\n",
       "      <th></th>\n",
       "      <th>category</th>\n",
       "      <th>actual_price</th>\n",
       "      <th>selling_price</th>\n",
       "      <th>loss</th>\n",
       "      <th>loss_percentage</th>\n",
       "    </tr>\n",
       "  </thead>\n",
       "  <tbody>\n",
       "    <tr>\n",
       "      <th>0</th>\n",
       "      <td>Bags, Wallets &amp; Belts</td>\n",
       "      <td>29330</td>\n",
       "      <td>10599</td>\n",
       "      <td>18731</td>\n",
       "      <td>63.862939</td>\n",
       "    </tr>\n",
       "    <tr>\n",
       "      <th>1</th>\n",
       "      <td>Clothing and Accessories</td>\n",
       "      <td>38726811</td>\n",
       "      <td>18366453</td>\n",
       "      <td>20360358</td>\n",
       "      <td>52.574321</td>\n",
       "    </tr>\n",
       "    <tr>\n",
       "      <th>2</th>\n",
       "      <td>Footwear</td>\n",
       "      <td>915870</td>\n",
       "      <td>478128</td>\n",
       "      <td>437742</td>\n",
       "      <td>47.795211</td>\n",
       "    </tr>\n",
       "  </tbody>\n",
       "</table>\n",
       "</div>"
      ],
      "text/plain": [
       "                   category  actual_price  selling_price      loss  \\\n",
       "0     Bags, Wallets & Belts         29330          10599     18731   \n",
       "1  Clothing and Accessories      38726811       18366453  20360358   \n",
       "2                  Footwear        915870         478128    437742   \n",
       "\n",
       "   loss_percentage  \n",
       "0        63.862939  \n",
       "1        52.574321  \n",
       "2        47.795211  "
      ]
     },
     "execution_count": 170,
     "metadata": {},
     "output_type": "execute_result"
    }
   ],
   "source": [
    "revenue_loss"
   ]
  },
  {
   "cell_type": "code",
   "execution_count": 171,
   "id": "8a5eb95e",
   "metadata": {},
   "outputs": [
    {
     "data": {
      "text/plain": [
       "20816831"
      ]
     },
     "execution_count": 171,
     "metadata": {},
     "output_type": "execute_result"
    }
   ],
   "source": [
    "revenue_loss['loss'].sum()"
   ]
  },
  {
   "cell_type": "code",
   "execution_count": 172,
   "id": "9030762a",
   "metadata": {},
   "outputs": [],
   "source": [
    "# 2.08 crore ruppes loss"
   ]
  },
  {
   "cell_type": "code",
   "execution_count": 187,
   "id": "b5356451",
   "metadata": {},
   "outputs": [
    {
     "data": {
      "text/html": [
       "<div>\n",
       "<style scoped>\n",
       "    .dataframe tbody tr th:only-of-type {\n",
       "        vertical-align: middle;\n",
       "    }\n",
       "\n",
       "    .dataframe tbody tr th {\n",
       "        vertical-align: top;\n",
       "    }\n",
       "\n",
       "    .dataframe thead th {\n",
       "        text-align: right;\n",
       "    }\n",
       "</style>\n",
       "<table border=\"1\" class=\"dataframe\">\n",
       "  <thead>\n",
       "    <tr style=\"text-align: right;\">\n",
       "      <th></th>\n",
       "      <th>_id</th>\n",
       "      <th>actual_price</th>\n",
       "      <th>average_rating</th>\n",
       "      <th>brand</th>\n",
       "      <th>category</th>\n",
       "      <th>crawled_at</th>\n",
       "      <th>out_of_stock</th>\n",
       "      <th>pid</th>\n",
       "      <th>product_details</th>\n",
       "      <th>seller</th>\n",
       "      <th>selling_price</th>\n",
       "      <th>sub_category</th>\n",
       "      <th>title</th>\n",
       "      <th>discount_in_percentage</th>\n",
       "      <th>year</th>\n",
       "      <th>month_name</th>\n",
       "      <th>day_name</th>\n",
       "    </tr>\n",
       "  </thead>\n",
       "  <tbody>\n",
       "    <tr>\n",
       "      <th>0</th>\n",
       "      <td>fa8e22d6-c0b6-5229-bb9e-ad52eda39a0a</td>\n",
       "      <td>2999</td>\n",
       "      <td>3.9</td>\n",
       "      <td>York</td>\n",
       "      <td>Clothing and Accessories</td>\n",
       "      <td>2021-02-10 20:11:51</td>\n",
       "      <td>False</td>\n",
       "      <td>TKPFCZ9EA7H5FYZH</td>\n",
       "      <td>[{'Style Code': '1005COMBO2'}, {'Closure': 'El...</td>\n",
       "      <td>Shyam Enterprises</td>\n",
       "      <td>921</td>\n",
       "      <td>Bottomwear</td>\n",
       "      <td>Solid Men Multicolor Track Pants</td>\n",
       "      <td>69</td>\n",
       "      <td>2021</td>\n",
       "      <td>February</td>\n",
       "      <td>Wednesday</td>\n",
       "    </tr>\n",
       "    <tr>\n",
       "      <th>1</th>\n",
       "      <td>893e6980-f2a0-531f-b056-34dd63fe912c</td>\n",
       "      <td>1499</td>\n",
       "      <td>3.9</td>\n",
       "      <td>York</td>\n",
       "      <td>Clothing and Accessories</td>\n",
       "      <td>2021-02-10 20:11:52</td>\n",
       "      <td>False</td>\n",
       "      <td>TKPFCZ9EJZV2UVRZ</td>\n",
       "      <td>[{'Style Code': '1005BLUE'}, {'Closure': 'Draw...</td>\n",
       "      <td>Shyam Enterprises</td>\n",
       "      <td>499</td>\n",
       "      <td>Bottomwear</td>\n",
       "      <td>Solid Men Blue Track Pants</td>\n",
       "      <td>66</td>\n",
       "      <td>2021</td>\n",
       "      <td>February</td>\n",
       "      <td>Wednesday</td>\n",
       "    </tr>\n",
       "    <tr>\n",
       "      <th>2</th>\n",
       "      <td>eb4c8eab-8206-59d0-bcd1-a724d96bf74f</td>\n",
       "      <td>2999</td>\n",
       "      <td>3.9</td>\n",
       "      <td>York</td>\n",
       "      <td>Clothing and Accessories</td>\n",
       "      <td>2021-02-10 20:11:52</td>\n",
       "      <td>False</td>\n",
       "      <td>TKPFCZ9EHFCY5Z4Y</td>\n",
       "      <td>[{'Style Code': '1005COMBO4'}, {'Closure': 'El...</td>\n",
       "      <td>Shyam Enterprises</td>\n",
       "      <td>931</td>\n",
       "      <td>Bottomwear</td>\n",
       "      <td>Solid Men Multicolor Track Pants</td>\n",
       "      <td>68</td>\n",
       "      <td>2021</td>\n",
       "      <td>February</td>\n",
       "      <td>Wednesday</td>\n",
       "    </tr>\n",
       "    <tr>\n",
       "      <th>3</th>\n",
       "      <td>3f3f97bb-5faf-57df-a9ff-1af24e2b1045</td>\n",
       "      <td>2999</td>\n",
       "      <td>3.9</td>\n",
       "      <td>York</td>\n",
       "      <td>Clothing and Accessories</td>\n",
       "      <td>2021-02-10 20:11:53</td>\n",
       "      <td>False</td>\n",
       "      <td>TKPFCZ9ESZZ7YWEF</td>\n",
       "      <td>[{'Style Code': '1005COMBO3'}, {'Closure': 'El...</td>\n",
       "      <td>Shyam Enterprises</td>\n",
       "      <td>911</td>\n",
       "      <td>Bottomwear</td>\n",
       "      <td>Solid Men Multicolor Track Pants</td>\n",
       "      <td>69</td>\n",
       "      <td>2021</td>\n",
       "      <td>February</td>\n",
       "      <td>Wednesday</td>\n",
       "    </tr>\n",
       "    <tr>\n",
       "      <th>4</th>\n",
       "      <td>750caa3d-6264-53ca-8ce1-94118a1d8951</td>\n",
       "      <td>2999</td>\n",
       "      <td>3.9</td>\n",
       "      <td>York</td>\n",
       "      <td>Clothing and Accessories</td>\n",
       "      <td>2021-02-10 20:11:53</td>\n",
       "      <td>False</td>\n",
       "      <td>TKPFCZ9EVXKBSUD7</td>\n",
       "      <td>[{'Style Code': '1005COMBO1'}, {'Closure': 'Dr...</td>\n",
       "      <td>Shyam Enterprises</td>\n",
       "      <td>943</td>\n",
       "      <td>Bottomwear</td>\n",
       "      <td>Solid Men Brown, Grey Track Pants</td>\n",
       "      <td>68</td>\n",
       "      <td>2021</td>\n",
       "      <td>February</td>\n",
       "      <td>Wednesday</td>\n",
       "    </tr>\n",
       "  </tbody>\n",
       "</table>\n",
       "</div>"
      ],
      "text/plain": [
       "                                    _id  actual_price  average_rating brand  \\\n",
       "0  fa8e22d6-c0b6-5229-bb9e-ad52eda39a0a          2999             3.9  York   \n",
       "1  893e6980-f2a0-531f-b056-34dd63fe912c          1499             3.9  York   \n",
       "2  eb4c8eab-8206-59d0-bcd1-a724d96bf74f          2999             3.9  York   \n",
       "3  3f3f97bb-5faf-57df-a9ff-1af24e2b1045          2999             3.9  York   \n",
       "4  750caa3d-6264-53ca-8ce1-94118a1d8951          2999             3.9  York   \n",
       "\n",
       "                   category          crawled_at  out_of_stock  \\\n",
       "0  Clothing and Accessories 2021-02-10 20:11:51         False   \n",
       "1  Clothing and Accessories 2021-02-10 20:11:52         False   \n",
       "2  Clothing and Accessories 2021-02-10 20:11:52         False   \n",
       "3  Clothing and Accessories 2021-02-10 20:11:53         False   \n",
       "4  Clothing and Accessories 2021-02-10 20:11:53         False   \n",
       "\n",
       "                pid                                    product_details  \\\n",
       "0  TKPFCZ9EA7H5FYZH  [{'Style Code': '1005COMBO2'}, {'Closure': 'El...   \n",
       "1  TKPFCZ9EJZV2UVRZ  [{'Style Code': '1005BLUE'}, {'Closure': 'Draw...   \n",
       "2  TKPFCZ9EHFCY5Z4Y  [{'Style Code': '1005COMBO4'}, {'Closure': 'El...   \n",
       "3  TKPFCZ9ESZZ7YWEF  [{'Style Code': '1005COMBO3'}, {'Closure': 'El...   \n",
       "4  TKPFCZ9EVXKBSUD7  [{'Style Code': '1005COMBO1'}, {'Closure': 'Dr...   \n",
       "\n",
       "              seller  selling_price sub_category  \\\n",
       "0  Shyam Enterprises            921   Bottomwear   \n",
       "1  Shyam Enterprises            499   Bottomwear   \n",
       "2  Shyam Enterprises            931   Bottomwear   \n",
       "3  Shyam Enterprises            911   Bottomwear   \n",
       "4  Shyam Enterprises            943   Bottomwear   \n",
       "\n",
       "                               title  discount_in_percentage  year month_name  \\\n",
       "0   Solid Men Multicolor Track Pants                      69  2021   February   \n",
       "1         Solid Men Blue Track Pants                      66  2021   February   \n",
       "2   Solid Men Multicolor Track Pants                      68  2021   February   \n",
       "3   Solid Men Multicolor Track Pants                      69  2021   February   \n",
       "4  Solid Men Brown, Grey Track Pants                      68  2021   February   \n",
       "\n",
       "    day_name  \n",
       "0  Wednesday  \n",
       "1  Wednesday  \n",
       "2  Wednesday  \n",
       "3  Wednesday  \n",
       "4  Wednesday  "
      ]
     },
     "execution_count": 187,
     "metadata": {},
     "output_type": "execute_result"
    }
   ],
   "source": [
    "df.head()"
   ]
  },
  {
   "cell_type": "code",
   "execution_count": 193,
   "id": "2d8bc3be",
   "metadata": {},
   "outputs": [],
   "source": [
    "contingency_table=pd.crosstab(df['category'],df['out_of_stock'])"
   ]
  },
  {
   "cell_type": "code",
   "execution_count": 194,
   "id": "e75d1893",
   "metadata": {},
   "outputs": [],
   "source": [
    "chi2,p_value,dof,expected=chi2_contingency(contingency_table)"
   ]
  },
  {
   "cell_type": "code",
   "execution_count": 195,
   "id": "e3fc16c8",
   "metadata": {
    "scrolled": true
   },
   "outputs": [
    {
     "name": "stdout",
     "output_type": "stream",
     "text": [
      "reject null hypothesis, there is siginificant association between category and out of stock\n"
     ]
    }
   ],
   "source": [
    "if p_value < 0.05:\n",
    "    print(\"reject null hypothesis, there is siginificant association between category and out of stock\")\n",
    "else:\n",
    "    print(\"failed to reject null hypothesis, there is no siginificant association between category and out of stock\")"
   ]
  },
  {
   "cell_type": "code",
   "execution_count": 200,
   "id": "204b8975",
   "metadata": {},
   "outputs": [],
   "source": [
    "stock_df=df[df['out_of_stock']==True]"
   ]
  },
  {
   "cell_type": "code",
   "execution_count": 201,
   "id": "cc82ecba",
   "metadata": {},
   "outputs": [
    {
     "data": {
      "text/plain": [
       "category\n",
       "Clothing and Accessories    776\n",
       "Footwear                      9\n",
       "dtype: int64"
      ]
     },
     "execution_count": 201,
     "metadata": {},
     "output_type": "execute_result"
    }
   ],
   "source": [
    "stock_df.groupby('category').size()"
   ]
  },
  {
   "cell_type": "code",
   "execution_count": 202,
   "id": "050fe05b",
   "metadata": {},
   "outputs": [],
   "source": [
    "# focus more on clothing and accessories"
   ]
  },
  {
   "cell_type": "code",
   "execution_count": 207,
   "id": "33a6c8ed",
   "metadata": {},
   "outputs": [],
   "source": [
    "x=df[['discount_in_percentage','average_rating','out_of_stock']]"
   ]
  },
  {
   "cell_type": "code",
   "execution_count": 208,
   "id": "456a409e",
   "metadata": {},
   "outputs": [],
   "source": [
    "kmeans=KMeans(n_clusters=3,random_state=42)"
   ]
  },
  {
   "cell_type": "code",
   "execution_count": 211,
   "id": "99f69173",
   "metadata": {},
   "outputs": [
    {
     "name": "stderr",
     "output_type": "stream",
     "text": [
      "C:\\Users\\Prem M\\anaconda3\\envs\\pandas_playground\\Lib\\site-packages\\sklearn\\cluster\\_kmeans.py:1412: FutureWarning: The default value of `n_init` will change from 10 to 'auto' in 1.4. Set the value of `n_init` explicitly to suppress the warning\n",
      "  super()._check_params_vs_input(X, default_n_init=10)\n",
      "C:\\Users\\Prem M\\AppData\\Local\\Temp\\ipykernel_5628\\589867116.py:1: SettingWithCopyWarning: \n",
      "A value is trying to be set on a copy of a slice from a DataFrame.\n",
      "Try using .loc[row_indexer,col_indexer] = value instead\n",
      "\n",
      "See the caveats in the documentation: https://pandas.pydata.org/pandas-docs/stable/user_guide/indexing.html#returning-a-view-versus-a-copy\n",
      "  df['cluster']=kmeans.fit_predict(x)\n"
     ]
    }
   ],
   "source": [
    "df['cluster']=kmeans.fit_predict(x)"
   ]
  },
  {
   "cell_type": "code",
   "execution_count": 216,
   "id": "83c91b64",
   "metadata": {},
   "outputs": [],
   "source": [
    "df1=df[df['cluster']==0]\n",
    "df2=df[df['cluster']==1]\n",
    "df3=df[df['cluster']==2]"
   ]
  },
  {
   "cell_type": "code",
   "execution_count": 217,
   "id": "050ed793",
   "metadata": {},
   "outputs": [
    {
     "data": {
      "text/plain": [
       "<matplotlib.collections.PathCollection at 0x2b6ec24b7d0>"
      ]
     },
     "execution_count": 217,
     "metadata": {},
     "output_type": "execute_result"
    },
    {
     "data": {
      "image/png": "[encoded data removed]",
      "text/plain": [
       "<Figure size 640x480 with 1 Axes>"
      ]
     },
     "metadata": {},
     "output_type": "display_data"
    }
   ],
   "source": [
    "plt.scatter(df1['average_rating'],df1['discount_in_percentage'],color='blue')\n",
    "plt.scatter(df2['average_rating'],df2['discount_in_percentage'],color='green')\n",
    "plt.scatter(df3['average_rating'],df3['discount_in_percentage'],color='red')"
   ]
  },
  {
   "cell_type": "code",
   "execution_count": 218,
   "id": "2916a57e",
   "metadata": {},
   "outputs": [],
   "source": [
    "#moderate discount i.e. cluster 2 offer a more efficient stratergy\n"
   ]
  },
  {
   "cell_type": "code",
   "execution_count": 234,
   "id": "8fd5215a",
   "metadata": {},
   "outputs": [],
   "source": [
    "x=df[['average_rating','actual_price','selling_price']]\n",
    "y=df['discount_in_percentage']"
   ]
  },
  {
   "cell_type": "code",
   "execution_count": 235,
   "id": "1b965400",
   "metadata": {},
   "outputs": [],
   "source": [
    "x_train,x_test,y_train,y_test=train_test_split(x,y,test_size=0.2,random_state=42)"
   ]
  },
  {
   "cell_type": "code",
   "execution_count": 236,
   "id": "71642b6f",
   "metadata": {},
   "outputs": [],
   "source": [
    "model=LinearRegression()"
   ]
  },
  {
   "cell_type": "code",
   "execution_count": 237,
   "id": "40559064",
   "metadata": {},
   "outputs": [
    {
     "data": {
      "text/html": [
       "<style>#sk-container-id-3 {color: black;}#sk-container-id-3 pre{padding: 0;}#sk-container-id-3 div.sk-toggleable {background-color: white;}#sk-container-id-3 label.sk-toggleable__label {cursor: pointer;display: block;width: 100%;margin-bottom: 0;padding: 0.3em;box-sizing: border-box;text-align: center;}#sk-container-id-3 label.sk-toggleable__label-arrow:before {content: \"▸\";float: left;margin-right: 0.25em;color: #696969;}#sk-container-id-3 label.sk-toggleable__label-arrow:hover:before {color: black;}#sk-container-id-3 div.sk-estimator:hover label.sk-toggleable__label-arrow:before {color: black;}#sk-container-id-3 div.sk-toggleable__content {max-height: 0;max-width: 0;overflow: hidden;text-align: left;background-color: #f0f8ff;}#sk-container-id-3 div.sk-toggleable__content pre {margin: 0.2em;color: black;border-radius: 0.25em;background-color: #f0f8ff;}#sk-container-id-3 input.sk-toggleable__control:checked~div.sk-toggleable__content {max-height: 200px;max-width: 100%;overflow: auto;}#sk-container-id-3 input.sk-toggleable__control:checked~label.sk-toggleable__label-arrow:before {content: \"▾\";}#sk-container-id-3 div.sk-estimator input.sk-toggleable__control:checked~label.sk-toggleable__label {background-color: #d4ebff;}#sk-container-id-3 div.sk-label input.sk-toggleable__control:checked~label.sk-toggleable__label {background-color: #d4ebff;}#sk-container-id-3 input.sk-hidden--visually {border: 0;clip: rect(1px 1px 1px 1px);clip: rect(1px, 1px, 1px, 1px);height: 1px;margin: -1px;overflow: hidden;padding: 0;position: absolute;width: 1px;}#sk-container-id-3 div.sk-estimator {font-family: monospace;background-color: #f0f8ff;border: 1px dotted black;border-radius: 0.25em;box-sizing: border-box;margin-bottom: 0.5em;}#sk-container-id-3 div.sk-estimator:hover {background-color: #d4ebff;}#sk-container-id-3 div.sk-parallel-item::after {content: \"\";width: 100%;border-bottom: 1px solid gray;flex-grow: 1;}#sk-container-id-3 div.sk-label:hover label.sk-toggleable__label {background-color: #d4ebff;}#sk-container-id-3 div.sk-serial::before {content: \"\";position: absolute;border-left: 1px solid gray;box-sizing: border-box;top: 0;bottom: 0;left: 50%;z-index: 0;}#sk-container-id-3 div.sk-serial {display: flex;flex-direction: column;align-items: center;background-color: white;padding-right: 0.2em;padding-left: 0.2em;position: relative;}#sk-container-id-3 div.sk-item {position: relative;z-index: 1;}#sk-container-id-3 div.sk-parallel {display: flex;align-items: stretch;justify-content: center;background-color: white;position: relative;}#sk-container-id-3 div.sk-item::before, #sk-container-id-3 div.sk-parallel-item::before {content: \"\";position: absolute;border-left: 1px solid gray;box-sizing: border-box;top: 0;bottom: 0;left: 50%;z-index: -1;}#sk-container-id-3 div.sk-parallel-item {display: flex;flex-direction: column;z-index: 1;position: relative;background-color: white;}#sk-container-id-3 div.sk-parallel-item:first-child::after {align-self: flex-end;width: 50%;}#sk-container-id-3 div.sk-parallel-item:last-child::after {align-self: flex-start;width: 50%;}#sk-container-id-3 div.sk-parallel-item:only-child::after {width: 0;}#sk-container-id-3 div.sk-dashed-wrapped {border: 1px dashed gray;margin: 0 0.4em 0.5em 0.4em;box-sizing: border-box;padding-bottom: 0.4em;background-color: white;}#sk-container-id-3 div.sk-label label {font-family: monospace;font-weight: bold;display: inline-block;line-height: 1.2em;}#sk-container-id-3 div.sk-label-container {text-align: center;}#sk-container-id-3 div.sk-container {/* jupyter's `normalize.less` sets `[hidden] { display: none; }` but bootstrap.min.css set `[hidden] { display: none !important; }` so we also need the `!important` here to be able to override the default hidden behavior on the sphinx rendered scikit-learn.org. See: https://github.com/scikit-learn/scikit-learn/issues/21755 */display: inline-block !important;position: relative;}#sk-container-id-3 div.sk-text-repr-fallback {display: none;}</style><div id=\"sk-container-id-3\" class=\"sk-top-container\"><div class=\"sk-text-repr-fallback\"><pre>LinearRegression()</pre><b>In a Jupyter environment, please rerun this cell to show the HTML representation or trust the notebook. <br />On GitHub, the HTML representation is unable to render, please try loading this page with nbviewer.org.</b></div><div class=\"sk-container\" hidden><div class=\"sk-item\"><div class=\"sk-estimator sk-toggleable\"><input class=\"sk-toggleable__control sk-hidden--visually\" id=\"sk-estimator-id-3\" type=\"checkbox\" checked><label for=\"sk-estimator-id-3\" class=\"sk-toggleable__label sk-toggleable__label-arrow\">LinearRegression</label><div class=\"sk-toggleable__content\"><pre>LinearRegression()</pre></div></div></div></div></div>"
      ],
      "text/plain": [
       "LinearRegression()"
      ]
     },
     "execution_count": 237,
     "metadata": {},
     "output_type": "execute_result"
    }
   ],
   "source": [
    "model.fit(x,y)"
   ]
  },
  {
   "cell_type": "code",
   "execution_count": 238,
   "id": "840c0773",
   "metadata": {},
   "outputs": [],
   "source": [
    "y_pred=model.predict(x_test)"
   ]
  },
  {
   "cell_type": "code",
   "execution_count": 239,
   "id": "5d136953",
   "metadata": {},
   "outputs": [],
   "source": [
    "mse=mean_squared_error(y_test,y_pred)"
   ]
  },
  {
   "cell_type": "code",
   "execution_count": 240,
   "id": "4ce252d5",
   "metadata": {},
   "outputs": [
    {
     "data": {
      "text/plain": [
       "9.01913408777546"
      ]
     },
     "execution_count": 240,
     "metadata": {},
     "output_type": "execute_result"
    }
   ],
   "source": [
    "rmse= np.sqrt(mse)\n",
    "rmse"
   ]
  },
  {
   "cell_type": "code",
   "execution_count": 241,
   "id": "4fa3c8ea",
   "metadata": {},
   "outputs": [
    {
     "data": {
      "text/plain": [
       "0.7123475150655316"
      ]
     },
     "execution_count": 241,
     "metadata": {},
     "output_type": "execute_result"
    }
   ],
   "source": [
    "r2_score(y_test,y_pred)"
   ]
  },
  {
   "cell_type": "code",
   "execution_count": 243,
   "id": "012b4dd0",
   "metadata": {},
   "outputs": [],
   "source": [
    "# accurate prediction, since rmse less than 10 and r_soce > 0.7 which is great in real terms"
   ]
  },
  {
   "cell_type": "code",
   "execution_count": null,
   "id": "3f0b0ea8",
   "metadata": {},
   "outputs": [],
   "source": []
  }
 ],
 "metadata": {
  "kernelspec": {
   "display_name": "Python 3 (ipykernel)",
   "language": "python",
   "name": "python3"
  },
  "language_info": {
   "codemirror_mode": {
    "name": "ipython",
    "version": 3
   },
   "file_extension": ".py",
   "mimetype": "text/x-python",
   "name": "python",
   "nbconvert_exporter": "python",
   "pygments_lexer": "ipython3",
   "version": "3.11.3"
  }
 },
 "nbformat": 4,
 "nbformat_minor": 5
}
